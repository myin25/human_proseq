{
 "cells": [
  {
   "cell_type": "code",
   "execution_count": 1,
   "id": "51cc4f6a",
   "metadata": {},
   "outputs": [],
   "source": [
    "import os\n",
    "os.environ[\"CUDA_VISIBLE_DEVICES\"] = \"3\"\n",
    "\n",
    "import numpy as np\n",
    "import torch\n",
    "import pandas as pd\n",
    "import gzip\n",
    "import random\n",
    "import sys\n",
    "from bpnetlite.io import extract_loci\n",
    "\n",
    "import matplotlib.pyplot as plt\n",
    "\n",
    "sys.path.append(\"/mnt/lab_data2/kcochran/procapnet/src/2_train_models\")\n",
    "sys.path.append(\"/mnt/lab_data2/kcochran/procapnet/src/utils\")\n",
    "from data_loading import extract_peaks\n",
    "from performance_metrics import compute_performance_metrics\n",
    "\n",
    "\n",
    "\n",
    "def model_predict(model, onehot_seqs):\n",
    "    with torch.no_grad():\n",
    "        onehot_seqs = torch.tensor(onehot_seqs, dtype=torch.float32).cuda()\n",
    "        pred_profiles, pred_logcounts = model.predict(onehot_seqs)\n",
    "    \n",
    "    pred_profiles = pred_profiles.detach().cpu().numpy()\n",
    "    pred_logcounts = pred_logcounts.detach().cpu().numpy()\n",
    "    return pred_profiles, pred_logcounts\n",
    "\n",
    "\n",
    "def run_eval(sequence_path, chrom_sizes, plus_bw_path, minus_bw_path, peak_path,\n",
    "             pred_profiles, pred_logcounts, in_window=2114, out_window=1000):\n",
    "\n",
    "    '''to_print = \"=== Running Model Eval ===\"\n",
    "    to_print += \"\\nBigwigs:\\n   - \" + plus_bw_path + \"\\n   - \" + minus_bw_path\n",
    "    to_print += \"\\nPeaks: \" + peak_path\n",
    "    to_print += \"\\nModel: \" + model_path\n",
    "    to_print += \"\\nSequence length: \" + str(in_window)\n",
    "    to_print += \"\\nProfile length: \" + str(out_window)\n",
    "    to_print += \"\\nStranded model: \" + str(stranded)\n",
    "    \n",
    "    to_print += \"\\nPred. profiles (out): \" + pred_profiles_path\n",
    "    to_print += \"\\nPred. counts (out): \" + pred_logcounts_path\n",
    "    to_print += \"\\nEval metrics (out): \" + metrics_save_path\n",
    "    to_print += \"\\nEval log (out): \" + log_save_path'''\n",
    "\n",
    "    \n",
    "    # load model\n",
    "    model = torch.load(model_path)\n",
    "    model.eval()\n",
    "    model = model.cuda()\n",
    "\n",
    "    # load data for peak set\n",
    "    onehot_seqs, true_profiles = extract_peaks(sequence_path, chrom_sizes,\n",
    "        plus_bw_path, minus_bw_path, peak_path,\n",
    "        in_window=in_window, out_window=out_window,\n",
    "        max_jitter=0, verbose=True)\n",
    "\n",
    "    # re-format arrays for performance metrics code\n",
    "    true_profiles = true_profiles.reshape(true_profiles.shape[0], -1)\n",
    "    true_profiles = np.expand_dims(true_profiles, (1, 3))\n",
    "    true_counts = true_profiles.sum(axis=2)\n",
    "        \n",
    "    pred_profiles = pred_profiles.reshape(pred_profiles.shape[0], -1)\n",
    "    pred_profiles = np.expand_dims(pred_profiles, (1, 3))\n",
    "    pred_logcounts = np.expand_dims(pred_logcounts, 1)\n",
    "\n",
    "    # print(true_profiles)\n",
    "    # print(pred_profiles)\n",
    "    # compute metrics\n",
    "    \n",
    "    plt.scatter(pred_logcounts, np.log1p(true_counts))\n",
    "    \n",
    "    metrics = compute_performance_metrics(true_profiles, pred_profiles, \n",
    "        true_counts, pred_logcounts, smooth_true_profs=False, smooth_pred_profs=False)\n",
    "\n",
    "    # save metrics and log results\n",
    "    df_dict = {metric : list(metrics[metric].squeeze()) for metric in [\"nll\", \"jsd\", \"profile_pearson\"]}\n",
    "    metrics_df = pd.DataFrame(df_dict)\n",
    "\n",
    "    metrics_to_report = [\"nll\", \"jsd\", \"profile_pearson\", \"count_pearson\", \"count_mse\"]\n",
    "    metrics_summary = [str(metrics[metric].mean()) for metric in metrics_to_report] \n",
    "\n",
    "    for metric, val in zip(metrics_to_report, metrics_summary):\n",
    "        print(\"Mean \" + metric + \": \" + val)\n",
    "            "
   ]
  },
  {
   "cell_type": "code",
   "execution_count": 6,
   "id": "fa5ed825",
   "metadata": {},
   "outputs": [
    {
     "name": "stderr",
     "output_type": "stream",
     "text": [
      "/tmp/ipykernel_7269/3622243328.py:23: UserWarning: To copy construct from a tensor, it is recommended to use sourceTensor.clone().detach() or sourceTensor.clone().detach().requires_grad_(True), rather than torch.tensor(sourceTensor).\n",
      "  onehot_seqs = torch.tensor(onehot_seqs, dtype=torch.float32).cuda()\n",
      "/tmp/ipykernel_7269/3196015773.py:21: UserWarning: Implicit dimension choice for softmax has been deprecated. Change the call to include dim=X as an argument.\n",
      "  pred_profiles = torch.nn.Softmax()(torch.tensor(pred_profiles))\n"
     ]
    },
    {
     "name": "stdout",
     "output_type": "stream",
     "text": [
      "done\n"
     ]
    }
   ],
   "source": [
    "timestamp = '2023-06-14_10:16:58'\n",
    "model_directory = '/users/myin25/projects/human_proseq/models'\n",
    "model_path = model_directory + '/{}.final.torch'.format(timestamp)\n",
    "model = torch.load(model_path)\n",
    "model.eval()\n",
    "model = model.cuda()\n",
    "\n",
    "root = '/users/myin25/projects/human_proseq/data/coPRO_3prime/K562/'\n",
    "peaks = root + 'peaks_fold1_train.bed.gz'\n",
    "seqs = '/users/myin25/projects/human_proseq/refs/hg38.fasta'\n",
    "signals = [root + '3prime.pos.bigWig', root + '3prime.neg.bigWig']\n",
    "controls = None\n",
    "valid_chroms = ['chr{}'.format(i) for i in range(0, 23)]\n",
    "valid_chroms.append('chrX')\n",
    "valid_chroms.append('chrY')\n",
    "\n",
    "onehot_encoded_sequences, profs = extract_loci(peaks, seqs, signals, controls, chroms=valid_chroms, max_jitter=0)\n",
    "\n",
    "pred_profiles, pred_logcounts = model_predict(model, onehot_encoded_sequences)\n",
    "\n",
    "pred_profiles = torch.nn.Softmax()(torch.tensor(pred_profiles))\n",
    "pred_profiles = pred_profiles.numpy()\n",
    "pred_profiles = np.log(pred_profiles)\n",
    "\n",
    "val_save_dir = '/users/myin25/projects/human_proseq/model_out/'\n",
    "pred_logcounts_path = val_save_dir + timestamp + \"_val.counts.npy\"\n",
    "pred_profiles_path = val_save_dir + timestamp + \"_val.profs.npy\"\n",
    "\n",
    "# np.save(pred_profiles_path, pred_profiles)\n",
    "# np.save(pred_logcounts_path, pred_logcounts)\n",
    "\n",
    "print('done')"
   ]
  },
  {
   "cell_type": "code",
   "execution_count": 7,
   "id": "b100b718",
   "metadata": {},
   "outputs": [
    {
     "data": {
      "image/png": "[encoded data removed]",
      "text/plain": [
       "<Figure size 640x480 with 1 Axes>"
      ]
     },
     "metadata": {},
     "output_type": "display_data"
    }
   ],
   "source": [
    "import matplotlib.pyplot as plt\n",
    "\n",
    "plt.hist(pred_profiles.flatten())\n",
    "plt.show()"
   ]
  },
  {
   "cell_type": "code",
   "execution_count": 4,
   "id": "a34f772a",
   "metadata": {},
   "outputs": [
    {
     "data": {
      "text/plain": [
       "(3699, 2, 1000)"
      ]
     },
     "execution_count": 4,
     "metadata": {},
     "output_type": "execute_result"
    }
   ],
   "source": [
    "pred_profiles.shape"
   ]
  },
  {
   "cell_type": "code",
   "execution_count": 8,
   "id": "40d85666",
   "metadata": {},
   "outputs": [
    {
     "name": "stdout",
     "output_type": "stream",
     "text": [
      "Loading genome sequence from /users/myin25/projects/human_proseq/refs/hg38.fasta\n"
     ]
    },
    {
     "name": "stderr",
     "output_type": "stream",
     "text": [
      "Reading FASTA: 100%|███████████████████████████████████████████████████████████| 24/24 [00:10<00:00,  2.33it/s]\n",
      "Loading Peaks: 22501it [00:39, 567.91it/s]\n"
     ]
    },
    {
     "name": "stdout",
     "output_type": "stream",
     "text": [
      "== In Extract Peaks ==\n",
      "Peak filepath: /users/myin25/projects/human_proseq/data/coPRO_3prime/K562/peaks_fold1_train.bed.gz\n",
      "Sequence length (with jitter): 2114\n",
      "Profile length (with jitter): 1000\n",
      "Max jitter applied: 0\n",
      "Num. Examples: 22501\n",
      "Mask loaded? False\n"
     ]
    },
    {
     "name": "stderr",
     "output_type": "stream",
     "text": [
      "/mnt/lab_data2/kcochran/procapnet/src/2_train_models/performance_metrics.py:52: RuntimeWarning: invalid value encountered in true_divide\n",
      "  cross_ent = (-log_prob_pows_sum) / trials\n",
      "/mnt/lab_data2/kcochran/procapnet/src/2_train_models/performance_metrics.py:243: RuntimeWarning: Mean of empty slice\n",
      "  jsd_batch_mean = np.nanmean(jsd_batch, axis=-1)  # Average over strands\n"
     ]
    },
    {
     "name": "stdout",
     "output_type": "stream",
     "text": [
      "Mean nll: 2887.1704659410902\n",
      "Mean jsd: nan\n",
      "Mean profile_pearson: nan\n",
      "Mean count_pearson: 0.8918529\n",
      "Mean count_mse: 0.30767837\n"
     ]
    },
    {
     "data": {
      "image/png": "[encoded data removed]",
      "text/plain": [
       "<Figure size 640x480 with 1 Axes>"
      ]
     },
     "metadata": {},
     "output_type": "display_data"
    }
   ],
   "source": [
    "chrom_sizes = '/users/myin25/projects/human_proseq/refs/hg38_sizes.genome'\n",
    "metrics_save_path = '/users/myin25/projects/human_proseq/model_out/2023-06-14_10:16:58.metrics'\n",
    "log_save_path = '/users/myin25/projects/human_proseq/model_out/2023-06-14_10:16:58.log'\n",
    "\n",
    "run_eval(seqs, chrom_sizes, signals[0], signals[1], peaks,\n",
    "             pred_profiles, pred_logcounts, in_window=2114, out_window=1000)"
   ]
  },
  {
   "cell_type": "code",
   "execution_count": null,
   "id": "878bf098",
   "metadata": {},
   "outputs": [],
   "source": []
  }
 ],
 "metadata": {
  "kernelspec": {
   "display_name": "Python [conda env:copro] *",
   "language": "python",
   "name": "conda-env-copro-py"
  },
  "language_info": {
   "codemirror_mode": {
    "name": "ipython",
    "version": 3
   },
   "file_extension": ".py",
   "mimetype": "text/x-python",
   "name": "python",
   "nbconvert_exporter": "python",
   "pygments_lexer": "ipython3",
   "version": "3.9.13"
  }
 },
 "nbformat": 4,
 "nbformat_minor": 5
}
