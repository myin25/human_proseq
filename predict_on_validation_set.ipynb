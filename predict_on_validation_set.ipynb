{
 "cells": [
  {
   "cell_type": "code",
   "execution_count": 2,
   "id": "5a500ee5",
   "metadata": {},
   "outputs": [],
   "source": [
    "import os\n",
    "os.environ[\"CUDA_VISIBLE_DEVICES\"] = \"4\""
   ]
  },
  {
   "cell_type": "code",
   "execution_count": 3,
   "id": "8bfcf403",
   "metadata": {},
   "outputs": [],
   "source": [
    "import numpy\n",
    "import torch\n",
    "import pandas\n",
    "import matplotlib.pyplot as plt\n",
    "\n",
    "from data_loading import extract_peaks\n",
    "from performance_metrics import compute_performance_metrics"
   ]
  },
  {
   "cell_type": "code",
   "execution_count": 7,
   "id": "bd69407a",
   "metadata": {},
   "outputs": [],
   "source": [
    "expt_name = \"stranded\"\n",
    "run = 1\n",
    "\n",
    "timestamp = \"2022-08-16_21-29-37\"   # change this to the timestamp for your best model\n",
    "\n",
    "in_window = 2114\n",
    "out_window = 1000\n",
    "\n",
    "\n",
    "proj_root = \"/users/kcochran/projects/drosophila_procap/\"\n",
    "sequence_path = proj_root + \"refs/genome.fasta\"\n",
    "\n",
    "val_peak_path = proj_root + \"/data/overlap_peaks.val.bed.gz\"\n",
    "plus_bw_path = proj_root + \"/data/bothreps.bowtie2.filtered.uniq.pos.bigWig\"\n",
    "minus_bw_path = proj_root + \"/data/bothreps.bowtie2.filtered.uniq.neg.bigWig\"\n",
    "\n",
    "model_save_dir = proj_root + \"models/\" + expt_name + \"/\"\n",
    "model_path = model_save_dir + timestamp + \"_run\" + str(run) + \".model\"\n",
    "\n",
    "val_save_dir = proj_root + \"model_out/\" + expt_name + \"/\"\n",
    "os.makedirs(val_save_dir, exist_ok=True) \n",
    "\n",
    "pred_counts_path = val_save_dir + timestamp + \"_run\" + str(run) + \"_val.counts.npy\"\n",
    "pred_profiles_path = val_save_dir + timestamp + \"_run\" + str(run) + \"_val.profs.npy\"\n",
    "metrics_path = val_save_dir + timestamp + \"_run\" + str(run) + \"_metrics.tsv\""
   ]
  },
  {
   "cell_type": "code",
   "execution_count": 9,
   "id": "9bc3a64b",
   "metadata": {},
   "outputs": [
    {
     "name": "stderr",
     "output_type": "stream",
     "text": [
      "Reading FASTA: 100%|████████████████████████████████████████████████████████████████████████████████████████████████████████████████████████████████████████████████████████████████████████████████████████████████████████████| 7/7 [00:00<00:00, 16.53it/s]\n",
      "Loading Peaks: 4117it [00:04, 1015.15it/s]\n",
      "/mnt/lab_data2/kcochran/drosophila_procap/src/performance_metrics.py:52: RuntimeWarning: invalid value encountered in true_divide\n",
      "  cross_ent = (-log_prob_pows_sum) / trials\n"
     ]
    },
    {
     "name": "stdout",
     "output_type": "stream",
     "text": [
      "Peaks: /users/kcochran/projects/drosophila_procap//data/overlap_peaks.val.bed.gz\n",
      "Model: /users/kcochran/projects/drosophila_procap/models/stranded/2022-08-16_21-29-37_run1.model\n",
      "Pred_profiles: /users/kcochran/projects/drosophila_procap/model_out/stranded/2022-08-16_21-29-37_run1_val.profs.npy\n",
      "Pred_counts: /users/kcochran/projects/drosophila_procap/model_out/stranded/2022-08-16_21-29-37_run1_val.counts.npy\n",
      "Mean nll: 748.8649046962082\n",
      "Mean jsd: nan\n",
      "Mean profile_pearson: 0.2233306852690775\n",
      "Mean count_pearson: 0.590163\n",
      "Mean count_mse: 3.5363805\n"
     ]
    }
   ],
   "source": [
    "# Load Model\n",
    "\n",
    "model = torch.load(model_path)\n",
    "model.eval()\n",
    "model = model.cuda()\n",
    "    \n",
    "# Load Data\n",
    "\n",
    "val_sequences, val_profs = extract_peaks(sequence_path, \n",
    "    plus_bw_path, minus_bw_path, val_peak_path, in_window, out_window,\n",
    "    max_jitter=0, verbose=True)\n",
    "\n",
    "val_profs[val_profs > 5452.0] = 5452.0\n",
    "\n",
    "\n",
    "# Predict on Validation Set\n",
    "\n",
    "with torch.no_grad():\n",
    "    val_sequences = torch.tensor(val_sequences, dtype=torch.float32).cuda()\n",
    "    pred_profile, pred_counts = model.predict(val_sequences)\n",
    "    \n",
    "    \n",
    "# Save Predictions\n",
    "\n",
    "numpy.save(pred_profiles_path, pred_profile)\n",
    "numpy.save(pred_counts_path, pred_counts)\n",
    "\n",
    "\n",
    "# re-format arrays for performance metrics code\n",
    "\n",
    "#val_profs = val_profs.reshape(val_profs.shape[0], -1)\n",
    "val_profs = numpy.swapaxes(numpy.expand_dims(val_profs, 1),2,3)\n",
    "val_counts = val_profs.sum(axis=2)\n",
    "\n",
    "#pred_profile = pred_profile.reshape(pred_profile.shape[0], -1)\n",
    "pred_profile = numpy.swapaxes(numpy.expand_dims(pred_profile, 1),2,3)\n",
    "pred_counts = numpy.expand_dims(pred_counts, 1)\n",
    "\n",
    "\n",
    "# Compute Performance Metrics\n",
    "\n",
    "metrics = compute_performance_metrics(val_profs, pred_profile, \n",
    "    val_counts, pred_counts)\n",
    "\n",
    "metrics_to_save = [\"nll\", \"jsd\", \"profile_pearson\"]\n",
    "metrics_dict = { metric : list(vals.squeeze()) for metric, vals in metrics.items() if metric in metrics_to_save }\n",
    "metrics_df = pandas.DataFrame(metrics_dict)\n",
    "metrics_df.to_csv(metrics_path, sep=\"\\t\", index=False)\n",
    "\n",
    "metrics_to_report = [\"nll\", \"jsd\", \"profile_pearson\", \"count_pearson\", \"count_mse\"]\n",
    "metrics_summary = [str(metrics[metric].mean()) for metric in metrics_to_report] \n",
    "\n",
    "print(\"Peaks: \" + val_peak_path)\n",
    "print(\"Model: \" + model_path)\n",
    "print(\"Pred_profiles: \" + pred_profiles_path)\n",
    "print(\"Pred_counts: \" + pred_counts_path)\n",
    "mean_metrics = [\"Mean \" + metric + \": \" + val for metric, val in zip(metrics_to_report, metrics_summary)]\n",
    "print(\"\\n\".join(mean_metrics))"
   ]
  },
  {
   "cell_type": "code",
   "execution_count": null,
   "id": "70d6b3e9",
   "metadata": {},
   "outputs": [],
   "source": []
  }
 ],
 "metadata": {
  "kernelspec": {
   "display_name": "Python [conda env:procap]",
   "language": "python",
   "name": "conda-env-procap-py"
  },
  "language_info": {
   "codemirror_mode": {
    "name": "ipython",
    "version": 3
   },
   "file_extension": ".py",
   "mimetype": "text/x-python",
   "name": "python",
   "nbconvert_exporter": "python",
   "pygments_lexer": "ipython3",
   "version": "3.7.16"
  }
 },
 "nbformat": 4,
 "nbformat_minor": 5
}
